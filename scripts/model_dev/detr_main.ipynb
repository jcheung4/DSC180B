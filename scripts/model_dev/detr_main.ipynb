{
 "cells": [
  {
   "cell_type": "markdown",
   "metadata": {},
   "source": [
    "# Objective: fine-tuning DETR\n",
    "-   Official DETR repository: https://github.com/facebookresearch/detr"
   ]
  },
  {
   "cell_type": "markdown",
   "metadata": {},
   "source": [
    "## Define useful boilerplate functions\n",
    "\n",
    "Adapted from:\n",
    "-   https://colab.research.google.com/github/facebookresearch/detr/blob/colab/notebooks/detr_attention.ipynb"
   ]
  },
  {
   "cell_type": "code",
   "execution_count": null,
   "metadata": {},
   "outputs": [],
   "source": [
    "import torch, torchvision\n",
    "print(torch.__version__, torch.cuda.is_available())\n",
    "\n",
    "torch.set_grad_enabled(False);"
   ]
  },
  {
   "cell_type": "code",
   "execution_count": null,
   "metadata": {},
   "outputs": [],
   "source": [
    "device = torch.device('cuda') if torch.cuda.is_available() else torch.device('cpu')\n",
    "device"
   ]
  },
  {
   "cell_type": "code",
   "execution_count": null,
   "metadata": {},
   "outputs": [],
   "source": [
    "import torchvision.transforms as T\n",
    "\n",
    "# standard PyTorch mean-std input image normalization\n",
    "transform = T.Compose([\n",
    "    T.Resize(800),\n",
    "    T.ToTensor(),\n",
    "    T.Normalize([0.485, 0.456, 0.406], [0.229, 0.224, 0.225])\n",
    "])\n",
    "\n",
    "# for output bounding box post-processing\n",
    "def box_cxcywh_to_xyxy(x):\n",
    "    x_c, y_c, w, h = x.unbind(1)\n",
    "    b = [(x_c - 0.5 * w), (y_c - 0.5 * h),\n",
    "         (x_c + 0.5 * w), (y_c + 0.5 * h)]\n",
    "    return torch.stack(b, dim=1)\n",
    "\n",
    "def rescale_bboxes(out_bbox, size):\n",
    "    img_w, img_h = size\n",
    "    b = box_cxcywh_to_xyxy(out_bbox)\n",
    "    b = b * torch.tensor([img_w, img_h, img_w, img_h], dtype=torch.float32)\n",
    "    return b\n",
    "\n",
    "def filter_bboxes_from_outputs(outputs,\n",
    "                               threshold=0.7):\n",
    "\n",
    "  # keep only predictions with confidence above threshold\n",
    "  probas = outputs['pred_logits'].softmax(-1)[0, :, :-1]\n",
    "  keep = probas.max(-1).values > threshold\n",
    "\n",
    "  probas_to_keep = probas[keep]\n",
    "\n",
    "  # convert boxes from [0; 1] to image scales\n",
    "  bboxes_scaled = rescale_bboxes(outputs['pred_boxes'][0, keep], im.size)\n",
    "\n",
    "  return probas_to_keep, bboxes_scaled\n",
    "\n",
    "COLORS = [[0.000, 0.447, 0.741], [0.850, 0.325, 0.098], [0.929, 0.694, 0.125],\n",
    "          [0.494, 0.184, 0.556], [0.466, 0.674, 0.188], [0.301, 0.745, 0.933]]"
   ]
  },
  {
   "cell_type": "markdown",
   "metadata": {},
   "source": [
    "## Load pre-trained weights\n",
    "\n",
    "Load a check-point (urls can be found [here](https://github.com/facebookresearch/detr#model-zoo)), then remove the classification head."
   ]
  },
  {
   "cell_type": "code",
   "execution_count": null,
   "metadata": {},
   "outputs": [],
   "source": [
    "%matplotlib inline\n",
    "import pycocotools.coco as coco\n",
    "from pycocotools.coco import COCO\n",
    "import numpy as np\n",
    "#import skimage.io as io\n",
    "import matplotlib.pyplot as plt\n",
    "import pylab\n",
    "pylab.rcParams['figure.figsize'] = (10.0, 8.0)"
   ]
  },
  {
   "cell_type": "markdown",
   "metadata": {},
   "source": [
    "## Fine-tuning"
   ]
  },
  {
   "cell_type": "code",
   "execution_count": null,
   "metadata": {},
   "outputs": [],
   "source": [
    "num_classes = 2\n",
    "finetuned_classes = ['Metal', 'Wooden']"
   ]
  },
  {
   "cell_type": "markdown",
   "metadata": {},
   "source": [
    "## Loading fine-tuned model"
   ]
  },
  {
   "cell_type": "code",
   "execution_count": null,
   "metadata": {},
   "outputs": [],
   "source": [
    "model = torch.hub.load('facebookresearch/detr',\n",
    "                       'detr_resnet50',\n",
    "                       pretrained=False,\n",
    "                       num_classes=num_classes)\n",
    "\n",
    "checkpoint = torch.load('models/checkpoint_Q1.pth',\n",
    "                        map_location='cpu')\n",
    "\n",
    "model.load_state_dict(checkpoint['model'],\n",
    "                      strict=False)\n",
    "\n",
    "model.eval();"
   ]
  },
  {
   "cell_type": "code",
   "execution_count": null,
   "metadata": {},
   "outputs": [],
   "source": [
    "def plot_finetuned_results(pil_img, prob=None, boxes=None):\n",
    "    plt.figure(figsize=(16,10))\n",
    "    plt.imshow(pil_img)\n",
    "    ax = plt.gca()\n",
    "    colors = COLORS * 100\n",
    "    if prob is not None and boxes is not None:\n",
    "      for p, (xmin, ymin, xmax, ymax), c in zip(prob, boxes, colors):\n",
    "          ax.add_patch(plt.Rectangle((xmin, ymin), xmax - xmin, ymax - ymin,\n",
    "                                    fill=False, color=c, linewidth=3))\n",
    "          cl = p.argmax()\n",
    "          text = f'{finetuned_classes[cl]}: {p[cl]:0.2f}'\n",
    "          ax.text(xmin, ymin, text, fontsize=15,\n",
    "                  bbox=dict(facecolor='yellow', alpha=0.5))\n",
    "    plt.axis('off')\n",
    "    plt.show()"
   ]
  },
  {
   "cell_type": "code",
   "execution_count": null,
   "metadata": {},
   "outputs": [],
   "source": [
    "min_area = 10000 # for standard 90 fov\n",
    "#min_area = 15000 # for 45 fov?\n",
    "min_height = 250\n",
    "\n",
    "print(\"Bounding Box Area:\", min_area)\n",
    "print(\"Min Height \", min_height)"
   ]
  },
  {
   "cell_type": "code",
   "execution_count": null,
   "metadata": {},
   "outputs": [],
   "source": [
    "#!pip install psycopg2"
   ]
  },
  {
   "cell_type": "code",
   "execution_count": null,
   "metadata": {},
   "outputs": [],
   "source": [
    "import psycopg2\n",
    "\n",
    "conn = psycopg2.connect(\n",
    "    host = 'localhost',\n",
    "    database='mydatabase',\n",
    "    user = 'dsc180b',\n",
    "    password = 'dsc180b'\n",
    ")\n",
    "\n",
    "cur = conn.cursor()"
   ]
  },
  {
   "cell_type": "code",
   "execution_count": null,
   "metadata": {},
   "outputs": [],
   "source": [
    "cur.execute(\n",
    "    '''\n",
    "    CREATE TABLE mypoles (\n",
    "        id SERIAL PRIMARY KEY,\n",
    "        latitude DOUBLE PRECISION,\n",
    "        longitude DOUBLE PRECISION,\n",
    "        type VARCHAR(6)\n",
    "    )\n",
    "    '''\n",
    ")"
   ]
  },
  {
   "cell_type": "code",
   "execution_count": null,
   "metadata": {},
   "outputs": [],
   "source": [
    "def filterOverlappingBox(prob, bbox, threshold = 0.3):\n",
    "    def isOverlapping2D(box1, box2):\n",
    "        def isOverlapping1D(xmin1, xmax1,xmin2, xmax2):\n",
    "            return xmin1 <= xmax2 and xmin2 <= xmax1\n",
    "        xmin1, ymin1, xmax1, ymax1 = box1\n",
    "        xmin2, ymin2, xmax2, ymax2 = box2\n",
    "\n",
    "        return isOverlapping1D(xmin1, xmax1,xmin2, xmax2) and isOverlapping1D(ymin1, ymax1,ymin2, ymax2)\n",
    "\n",
    "    def overlappingArea(box1,box2):\n",
    "        def overlappingLine(xmin1, xmax1,xmin2, xmax2):\n",
    "            return min(xmax1, xmax2) - max(xmin1,xmin2)\n",
    "        xmin1, ymin1, xmax1, ymax1 = box1\n",
    "        xmin2, ymin2, xmax2, ymax2 = box2\n",
    "        return overlappingLine(xmin1, xmax1,xmin2, xmax2)*overlappingLine(ymin1, ymax1,ymin2, ymax2)\n",
    "\n",
    "    def boxArea(box):\n",
    "        xmin, ymin, xmax, ymax = box\n",
    "        return (xmax-xmin)*(ymax-ymin)\n",
    "    \n",
    "    i=0\n",
    "    j=1\n",
    "    removed =[]\n",
    "    while(i<len(bbox)-1):\n",
    "        if i in removed or j>= len(bbox):\n",
    "            i += 1\n",
    "            j = i+1\n",
    "            continue\n",
    "        if j in removed:\n",
    "            j +=1\n",
    "            continue\n",
    "        box1 = bbox[i]\n",
    "        box2 = bbox[j]\n",
    "        if isOverlapping2D(box1, box2):\n",
    "            area1 = boxArea(box1)\n",
    "            area2 = boxArea(box2)\n",
    "            areaO = overlappingArea(box1,box2)\n",
    "            if (areaO/area1)>threshold or (areaO/area2)>threshold:\n",
    "                p1 = prob[i]\n",
    "                p2 = prob[2]\n",
    "\n",
    "                if p1.max()<p2.max():\n",
    "                    removed += [i]\n",
    "                else:\n",
    "                    removed += [j]    \n",
    "        j+=1\n",
    "\n",
    "    out_prob = []\n",
    "    out_bbox = []\n",
    "    for i in range(len(bbox)):\n",
    "        if i not in removed:\n",
    "            out_prob += [prob[i]]\n",
    "            out_bbox += [bbox[i]]\n",
    "    return out_prob,out_bbox"
   ]
  },
  {
   "cell_type": "code",
   "execution_count": null,
   "metadata": {},
   "outputs": [],
   "source": [
    "def run_worflow(my_image, my_model, img_name):\n",
    "      # mean-std normalize the input image (batch-size: 1)\n",
    "  img = transform(my_image).unsqueeze(0)\n",
    "\n",
    "  # propagate through the model\n",
    "  outputs = my_model(img)\n",
    "\n",
    "  for threshold in [0.5]:\n",
    "\n",
    "    probas_to_keep, bboxes_scaled = filter_bboxes_from_outputs(outputs,\n",
    "                                                              threshold=threshold)\n",
    "    probas_to_keep, bboxes_scaled = filterOverlappingBox(probas_to_keep, bboxes_scaled)\n",
    "    \n",
    "    if probas_to_keep is not None and bboxes_scaled is not None:\n",
    "        for p, (xmin, ymin, xmax, ymax)in zip(probas_to_keep, bboxes_scaled):\n",
    "            cl = p.argmax()\n",
    "            \n",
    "            img_split = img_name.split('_')\n",
    "            \"\"\"\n",
    "            latitude = img_split[2]\n",
    "            longitude = img_split[3][:-4]\n",
    "            pole_type = finetuned_classes[cl]\n",
    "            \n",
    "            cur_area = (xmax - xmin) * (ymax - ymin)\n",
    "            print(cur_area)\n",
    "            cur_height = ymax - ymin\n",
    "            \"\"\"\n",
    "            \"\"\"\n",
    "            if cur_area > min_area:\n",
    "            #if height > min_height:\n",
    "                insert_query = f\" \\\n",
    "                INSERT INTO mypoles (latitude, longitude, type) VALUES \\\n",
    "                ({latitude}, {longitude}, '{pole_type}') \\\n",
    "                \"\n",
    "                \n",
    "                cur.execute(insert_query)\n",
    "                \n",
    "                print(True)\n",
    "            \"\"\"\n",
    "\n",
    "    plot_finetuned_results(my_image,\n",
    "                           probas_to_keep,\n",
    "                           bboxes_scaled)\n",
    "    return probas_to_keep, bboxes_scaled\n"
   ]
  },
  {
   "cell_type": "markdown",
   "metadata": {},
   "source": [
    "### With a training image"
   ]
  },
  {
   "cell_type": "code",
   "execution_count": null,
   "metadata": {},
   "outputs": [],
   "source": [
    "from PIL import Image\n",
    "import glob\n",
    "\n",
    "import re\n",
    "\n",
    "# To sort images because it was doing left0, left1, left10, instead of left0, left1, left2\n",
    "def natural_sort_key(s):\n",
    "    return [int(text) if text.isdigit() else text.lower() for text in re.split('([0-9]+)', s)]"
   ]
  },
  {
   "cell_type": "code",
   "execution_count": null,
   "metadata": {},
   "outputs": [],
   "source": [
    "image_paths = glob.glob('../temp/*.jpg')\n",
    "left_images = []\n",
    "right_images = []\n",
    "\n",
    "for image in image_paths:\n",
    "    if '-' in image:\n",
    "        left_images.append(image)\n",
    "    else:\n",
    "        right_images.append(image)\n",
    "print(len(left_images))\n",
    "print(len(right_images))\n",
    "        \n",
    "left_images = sorted(left_images, key=natural_sort_key)\n",
    "right_images = sorted(right_images, key=natural_sort_key)\n",
    "\n",
    "probs =[]\n",
    "bboxs = []\n",
    "\n",
    "for image in left_images:\n",
    "    print(image)    \n",
    "    im = Image.open(image)\n",
    "\n",
    "    prob,bbox = run_worflow(im, model, image)\n",
    "    probs +=[prob]\n",
    "    bboxs +=[bbox]\n",
    "    \n",
    "for image in right_images:\n",
    "    print(image)    \n",
    "    im = Image.open(image)\n",
    "\n",
    "    prob,bbox = run_worflow(im, model, image)\n",
    "    probs +=[prob]\n",
    "    bboxs +=[bbox]"
   ]
  },
  {
   "cell_type": "code",
   "execution_count": null,
   "metadata": {},
   "outputs": [],
   "source": [
    "bboxs"
   ]
  },
  {
   "cell_type": "code",
   "execution_count": null,
   "metadata": {},
   "outputs": [],
   "source": [
    "i=0\n",
    "j=1\n",
    "removed = []\n",
    "bbox = bboxs[0]\n",
    "prob = probs[0]\n",
    "threshold = 0.3\n",
    "\n",
    "def isOverlapping2D(box1, box2):\n",
    "    def isOverlapping1D(xmin1, xmax1,xmin2, xmax2):\n",
    "        return xmin1 <= xmax2 and xmin2 <= xmax1\n",
    "    xmin1, ymin1, xmax1, ymax1 = box1\n",
    "    xmin2, ymin2, xmax2, ymax2 = box2\n",
    "\n",
    "    return isOverlapping1D(xmin1, xmax1,xmin2, xmax2) and isOverlapping1D(ymin1, ymax1,ymin2, ymax2)\n",
    "\n",
    "def overlappingArea(box1,box2):\n",
    "    def overlappingLine(xmin1, xmax1,xmin2, xmax2):\n",
    "        return min(xmax1, xmax2) - max(xmin1,xmin2)\n",
    "    xmin1, ymin1, xmax1, ymax1 = box1\n",
    "    xmin2, ymin2, xmax2, ymax2 = box2\n",
    "    return overlappingLine(xmin1, xmax1,xmin2, xmax2)*overlappingLine(ymin1, ymax1,ymin2, ymax2)\n",
    "\n",
    "def boxArea(box):\n",
    "    xmin, ymin, xmax, ymax = box\n",
    "    return (xmax-xmin)*(ymax-ymin)\n",
    "\n",
    "while(i<len(bbox)-1):\n",
    "    if i in removed or j>= len(bbox):\n",
    "        i += 1\n",
    "        j = i+1\n",
    "        continue\n",
    "    if j in removed:\n",
    "        j +=1\n",
    "        continue\n",
    "    print(\"{}, {}\".format(i,j))\n",
    "    box1 = bbox[i]\n",
    "    box2 = bbox[j]\n",
    "    print(isOverlapping2D(box1, box2))\n",
    "    if isOverlapping2D(box1, box2):\n",
    "        area1 = boxArea(box1)\n",
    "        area2 = boxArea(box2)\n",
    "        areaO = overlappingArea(box1,box2)\n",
    "        if (areaO/area1)>threshold or (areaO/area2)>threshold:\n",
    "            p1 = prob[i]\n",
    "            p2 = prob[2]\n",
    "\n",
    "            if p1.max()<p2.max():\n",
    "                removed += [i]\n",
    "                print(\"Overlapped so {} got removed\".format(i))\n",
    "            else:\n",
    "                removed += [j]   \n",
    "                print(\"Overlapped so {} got removed\".format(j))    \n",
    "    j+=1\n",
    "\n",
    "out_prob = []\n",
    "out_bbox = []\n",
    "for i in range(len(bbox)):\n",
    "    if i not in removed:\n",
    "        out_prob += [prob[i]]\n",
    "        out_bbox += [bbox[i]]\n",
    "        print(i)"
   ]
  },
  {
   "cell_type": "code",
   "execution_count": null,
   "metadata": {},
   "outputs": [],
   "source": [
    "cur.execute(\n",
    "    '''\n",
    "    SELECT * FROM mypoles;\n",
    "    '''\n",
    ")"
   ]
  },
  {
   "cell_type": "code",
   "execution_count": null,
   "metadata": {},
   "outputs": [],
   "source": [
    "# Fetch all rows from the result set\n",
    "rows = cur.fetchall()\n",
    "\n",
    "# Print the result\n",
    "for row in rows:\n",
    "    print(row)"
   ]
  },
  {
   "cell_type": "code",
   "execution_count": null,
   "metadata": {},
   "outputs": [],
   "source": [
    "my_poles_count = {'Wooden': 0, 'Metal': 0}\n",
    "\n",
    "for row in rows:\n",
    "    if row[-1] == 'Wooden':\n",
    "        my_poles_count['Wooden'] += 1\n",
    "    else:\n",
    "        my_poles_count['Metal'] += 1\n",
    "    \n",
    "my_poles_count"
   ]
  },
  {
   "cell_type": "code",
   "execution_count": null,
   "metadata": {},
   "outputs": [],
   "source": [
    "#test_2\n",
    "cur.execute(\n",
    "    '''\n",
    "    SELECT *\n",
    "    FROM poles\n",
    "    WHERE\n",
    "        -- Haversine formula for distance calculation\n",
    "        6371000 * 2 * ASIN(\n",
    "            SQRT(\n",
    "                POWER(SIN(RADIANS((latitude - 32.8209644) / 2)), 2) +\n",
    "                COS(RADIANS(32.8209644)) * COS(RADIANS(latitude)) *\n",
    "                POWER(SIN(RADIANS((longitude + 117.1861909) / 2)), 2)\n",
    "            )\n",
    "        ) <= 100 -- distance in meters\n",
    "        OR\n",
    "        6371000 * 2 * ASIN(\n",
    "            SQRT(\n",
    "                POWER(SIN(RADIANS((latitude - 32.8195283) / 2)), 2) +\n",
    "                COS(RADIANS(32.8195283)) * COS(RADIANS(latitude)) *\n",
    "                POWER(SIN(RADIANS((longitude + 117.1861259) / 2)), 2)\n",
    "            )\n",
    "        ) <= 100; -- distance in meters\n",
    "\n",
    "    '''\n",
    ")"
   ]
  },
  {
   "cell_type": "code",
   "execution_count": null,
   "metadata": {},
   "outputs": [],
   "source": [
    "# test\n",
    "cur.execute(\n",
    "    '''\n",
    "    SELECT *\n",
    "    FROM poles\n",
    "    WHERE\n",
    "        -- Haversine formula for distance calculation\n",
    "        6371000 * 2 * ASIN(\n",
    "            SQRT(\n",
    "                POWER(SIN(RADIANS((latitude - 32.6781445) / 2)), 2) +\n",
    "                COS(RADIANS(32.6781445)) * COS(RADIANS(latitude)) *\n",
    "                POWER(SIN(RADIANS((longitude + 117.098631) / 2)), 2)\n",
    "            )\n",
    "        ) <= 100 -- distance in meters\n",
    "        OR\n",
    "        6371000 * 2 * ASIN(\n",
    "            SQRT(\n",
    "                POWER(SIN(RADIANS((latitude - 32.6787394) / 2)), 2) +\n",
    "                COS(RADIANS(32.6787394)) * COS(RADIANS(latitude)) *\n",
    "                POWER(SIN(RADIANS((longitude + 117.0967834) / 2)), 2)\n",
    "            )\n",
    "        ) <= 100; -- distance in meters\n",
    "\n",
    "    '''\n",
    ")"
   ]
  },
  {
   "cell_type": "code",
   "execution_count": null,
   "metadata": {},
   "outputs": [],
   "source": [
    "# Fetch all rows from the result set\n",
    "rows = cur.fetchall()\n",
    "\n",
    "# Print the result\n",
    "for row in rows:\n",
    "    print(row)"
   ]
  },
  {
   "cell_type": "code",
   "execution_count": null,
   "metadata": {},
   "outputs": [],
   "source": [
    "db_poles_count = {'Wooden': 0, 'Metal': 0}\n",
    "\n",
    "for row in rows:\n",
    "    if row[-1] == 'Wooden':\n",
    "        db_poles_count['Wooden'] += 1\n",
    "    else:\n",
    "        db_poles_count['Metal'] += 1\n",
    "    \n",
    "db_poles_count"
   ]
  },
  {
   "cell_type": "code",
   "execution_count": null,
   "metadata": {},
   "outputs": [],
   "source": [
    "cur.execute(\n",
    "    '''\n",
    "    DROP TABLE mypoles;\n",
    "    '''\n",
    ")"
   ]
  },
  {
   "cell_type": "code",
   "execution_count": null,
   "metadata": {},
   "outputs": [],
   "source": []
  }
 ],
 "metadata": {
  "kernelspec": {
   "display_name": "Python 3 (ipykernel)",
   "language": "python",
   "name": "python3"
  },
  "language_info": {
   "codemirror_mode": {
    "name": "ipython",
    "version": 3
   },
   "file_extension": ".py",
   "mimetype": "text/x-python",
   "name": "python",
   "nbconvert_exporter": "python",
   "pygments_lexer": "ipython3",
   "version": "3.9.18"
  }
 },
 "nbformat": 4,
 "nbformat_minor": 2
}

{
 "cells": [
  {
   "cell_type": "code",
   "execution_count": 134,
   "metadata": {},
   "outputs": [],
   "source": [
    "import psycopg2"
   ]
  },
  {
   "cell_type": "code",
   "execution_count": 135,
   "metadata": {},
   "outputs": [],
   "source": [
    "conn = psycopg2.connect(\n",
    "    host = 'localhost',\n",
    "    database='mydatabase',\n",
    "    user = 'dsc180b',\n",
    "    password = 'dsc180b'\n",
    ")\n"
   ]
  },
  {
   "cell_type": "code",
   "execution_count": 136,
   "metadata": {},
   "outputs": [],
   "source": [
    "cur = conn.cursor()"
   ]
  },
  {
   "cell_type": "code",
   "execution_count": 137,
   "metadata": {},
   "outputs": [],
   "source": [
    "cur.execute(\n",
    "    '''\n",
    "    SELECT * FROM poles;\n",
    "    '''\n",
    ")"
   ]
  },
  {
   "cell_type": "code",
   "execution_count": 138,
   "metadata": {},
   "outputs": [
    {
     "name": "stdout",
     "output_type": "stream",
     "text": [
      "(1, 32.7455211, -117.0242656, 'Metal')\n",
      "(2, 32.745515, -117.023937, 'Wooden')\n"
     ]
    }
   ],
   "source": [
    "# Fetch all rows from the result set\n",
    "rows = cur.fetchall()\n",
    "\n",
    "# Print the result\n",
    "for row in rows:\n",
    "    print(row)"
   ]
  },
  {
   "cell_type": "code",
   "execution_count": 139,
   "metadata": {},
   "outputs": [],
   "source": [
    "cur.execute(\n",
    "    '''\n",
    "    INSERT INTO poles (latitude, longitude, type) VALUES\n",
    "        (32.7455048, -117.0236152, 'Wooden');\n",
    "    '''\n",
    ")"
   ]
  },
  {
   "cell_type": "code",
   "execution_count": 140,
   "metadata": {},
   "outputs": [],
   "source": [
    "cur.execute(\n",
    "    '''\n",
    "    SELECT * FROM poles;\n",
    "    '''\n",
    ")"
   ]
  },
  {
   "cell_type": "code",
   "execution_count": 141,
   "metadata": {},
   "outputs": [
    {
     "name": "stdout",
     "output_type": "stream",
     "text": [
      "(1, 32.7455211, -117.0242656, 'Metal')\n",
      "(2, 32.745515, -117.023937, 'Wooden')\n",
      "(6, 32.7455048, -117.0236152, 'Wooden')\n"
     ]
    }
   ],
   "source": [
    "# Fetch all rows from the result set\n",
    "rows = cur.fetchall()\n",
    "\n",
    "# Print the result\n",
    "for row in rows:\n",
    "    print(row)"
   ]
  },
  {
   "cell_type": "code",
   "execution_count": 142,
   "metadata": {},
   "outputs": [],
   "source": [
    "# Deletes last row\n",
    "cur.execute(\n",
    "    '''\n",
    "    DELETE FROM poles\n",
    "    WHERE id = (\n",
    "        SELECT id\n",
    "        FROM poles\n",
    "        ORDER BY id DESC\n",
    "        LIMIT 1\n",
    "    );\n",
    "    '''\n",
    ")"
   ]
  },
  {
   "cell_type": "code",
   "execution_count": 143,
   "metadata": {},
   "outputs": [],
   "source": [
    "cur.execute(\n",
    "    '''\n",
    "    SELECT * FROM poles;\n",
    "    '''\n",
    ")"
   ]
  },
  {
   "cell_type": "code",
   "execution_count": 144,
   "metadata": {},
   "outputs": [
    {
     "name": "stdout",
     "output_type": "stream",
     "text": [
      "(1, 32.7455211, -117.0242656, 'Metal')\n",
      "(2, 32.745515, -117.023937, 'Wooden')\n"
     ]
    }
   ],
   "source": [
    "# Fetch all rows from the result set\n",
    "rows = cur.fetchall()\n",
    "\n",
    "# Print the result\n",
    "for row in rows:\n",
    "    print(row)"
   ]
  },
  {
   "cell_type": "code",
   "execution_count": 145,
   "metadata": {},
   "outputs": [],
   "source": [
    "cur.execute(\n",
    "    '''\n",
    "    CREATE TABLE mypoles (\n",
    "        id SERIAL PRIMARY KEY,\n",
    "        latitude DOUBLE PRECISION,\n",
    "        longitude DOUBLE PRECISION,\n",
    "        type VARCHAR(6)\n",
    "    )\n",
    "    '''\n",
    ")"
   ]
  },
  {
   "cell_type": "code",
   "execution_count": 146,
   "metadata": {},
   "outputs": [],
   "source": [
    "cur.execute(\n",
    "    '''\n",
    "    INSERT INTO mypoles (latitude, longitude, type) VALUES\n",
    "    (32.7455211, -117.0242656, 'Metal'),\n",
    "    (32.745515, -117.023937, 'Wooden');\n",
    "    '''\n",
    ")"
   ]
  },
  {
   "cell_type": "code",
   "execution_count": 147,
   "metadata": {},
   "outputs": [],
   "source": [
    "cur.execute(\n",
    "    '''\n",
    "    SELECT * FROM mypoles;\n",
    "    '''\n",
    ")"
   ]
  },
  {
   "cell_type": "code",
   "execution_count": 148,
   "metadata": {},
   "outputs": [
    {
     "name": "stdout",
     "output_type": "stream",
     "text": [
      "(1, 32.7455211, -117.0242656, 'Metal')\n",
      "(2, 32.745515, -117.023937, 'Wooden')\n"
     ]
    }
   ],
   "source": [
    "# Fetch all rows from the result set\n",
    "rows = cur.fetchall()\n",
    "\n",
    "# Print the result\n",
    "for row in rows:\n",
    "    print(row)"
   ]
  },
  {
   "cell_type": "code",
   "execution_count": 149,
   "metadata": {},
   "outputs": [],
   "source": [
    "cur.execute(\n",
    "    '''\n",
    "    INSERT INTO mypoles (latitude, longitude, type) VALUES\n",
    "        (32.7455048, -117.0236152, 'Wooden');\n",
    "    '''\n",
    ")"
   ]
  },
  {
   "cell_type": "code",
   "execution_count": 150,
   "metadata": {},
   "outputs": [],
   "source": [
    "cur.execute(\n",
    "    '''\n",
    "    SELECT * FROM mypoles;\n",
    "    '''\n",
    ")"
   ]
  },
  {
   "cell_type": "code",
   "execution_count": 151,
   "metadata": {},
   "outputs": [
    {
     "name": "stdout",
     "output_type": "stream",
     "text": [
      "(1, 32.7455211, -117.0242656, 'Metal')\n",
      "(2, 32.745515, -117.023937, 'Wooden')\n",
      "(3, 32.7455048, -117.0236152, 'Wooden')\n"
     ]
    }
   ],
   "source": [
    "# Fetch all rows from the result set\n",
    "rows = cur.fetchall()\n",
    "\n",
    "# Print the result\n",
    "for row in rows:\n",
    "    print(row)"
   ]
  },
  {
   "cell_type": "code",
   "execution_count": 152,
   "metadata": {},
   "outputs": [],
   "source": [
    "# Deletes last row\n",
    "cur.execute(\n",
    "    '''\n",
    "    DELETE FROM mypoles\n",
    "    WHERE id = (\n",
    "        SELECT id\n",
    "        FROM mypoles\n",
    "        ORDER BY id DESC\n",
    "        LIMIT 1\n",
    "    );\n",
    "    '''\n",
    ")"
   ]
  },
  {
   "cell_type": "code",
   "execution_count": 153,
   "metadata": {},
   "outputs": [],
   "source": [
    "cur.execute(\n",
    "    '''\n",
    "    SELECT * FROM mypoles;\n",
    "    '''\n",
    ")"
   ]
  },
  {
   "cell_type": "code",
   "execution_count": 154,
   "metadata": {},
   "outputs": [
    {
     "name": "stdout",
     "output_type": "stream",
     "text": [
      "(1, 32.7455211, -117.0242656, 'Metal')\n",
      "(2, 32.745515, -117.023937, 'Wooden')\n"
     ]
    }
   ],
   "source": [
    "# Fetch all rows from the result set\n",
    "rows = cur.fetchall()\n",
    "\n",
    "# Print the result\n",
    "for row in rows:\n",
    "    print(row)"
   ]
  },
  {
   "cell_type": "code",
   "execution_count": 155,
   "metadata": {},
   "outputs": [],
   "source": [
    "cur.execute(\n",
    "    '''\n",
    "    DROP TABLE mypoles;\n",
    "    '''\n",
    ")"
   ]
  },
  {
   "cell_type": "code",
   "execution_count": 156,
   "metadata": {},
   "outputs": [
    {
     "ename": "UndefinedTable",
     "evalue": "relation \"mypoles\" does not exist\nLINE 2:     SELECT * FROM mypoles;\n                          ^\n",
     "output_type": "error",
     "traceback": [
      "\u001b[0;31m---------------------------------------------------------------------------\u001b[0m",
      "\u001b[0;31mUndefinedTable\u001b[0m                            Traceback (most recent call last)",
      "Cell \u001b[0;32mIn[156], line 1\u001b[0m\n\u001b[0;32m----> 1\u001b[0m cur\u001b[38;5;241m.\u001b[39mexecute(\n\u001b[1;32m      2\u001b[0m \u001b[38;5;250m    \u001b[39m\u001b[38;5;124;03m'''\u001b[39;00m\n\u001b[1;32m      3\u001b[0m \u001b[38;5;124;03m    SELECT * FROM mypoles;\u001b[39;00m\n\u001b[1;32m      4\u001b[0m \u001b[38;5;124;03m    '''\u001b[39;00m\n\u001b[1;32m      5\u001b[0m )\n",
      "\u001b[0;31mUndefinedTable\u001b[0m: relation \"mypoles\" does not exist\nLINE 2:     SELECT * FROM mypoles;\n                          ^\n"
     ]
    }
   ],
   "source": [
    "cur.execute(\n",
    "    '''\n",
    "    SELECT * FROM mypoles;\n",
    "    '''\n",
    ")"
   ]
  }
 ],
 "metadata": {
  "kernelspec": {
   "display_name": "base",
   "language": "python",
   "name": "python3"
  },
  "language_info": {
   "codemirror_mode": {
    "name": "ipython",
    "version": 3
   },
   "file_extension": ".py",
   "mimetype": "text/x-python",
   "name": "python",
   "nbconvert_exporter": "python",
   "pygments_lexer": "ipython3",
   "version": "3.11.5"
  }
 },
 "nbformat": 4,
 "nbformat_minor": 2
}
